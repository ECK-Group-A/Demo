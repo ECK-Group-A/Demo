{
 "cells": [
  {
   "cell_type": "code",
   "execution_count": 2,
   "id": "a93e10cd-e135-43eb-83f8-04a467137e0f",
   "metadata": {
    "tags": []
   },
   "outputs": [],
   "source": [
    "import pycurl\n",
    "try:\n",
    "    from io import BytesIO\n",
    "except ImportError:\n",
    "    from StringIO import StringIO as BytesIO\n",
    "try:\n",
    "    from urllib.parse import urlencode\n",
    "except ImportError:\n",
    "    from urllib import urlencode\n",
    "import urllib.request\n",
    "import json\n",
    "import time\n",
    "from socket import *"
   ]
  },
  {
   "cell_type": "code",
   "execution_count": 3,
   "id": "8a3086bf-d31a-435c-aeb4-8b6aeb4c8a77",
   "metadata": {},
   "outputs": [],
   "source": [
    "Base_URL = 'http://192.168.10.100/cgi/'\n",
    "\n",
    "def sensor_do(s, url, pf, buf):\n",
    "    s.setopt(s.URL, url)\n",
    "    s.setopt(s.POSTFIELDS, pf)\n",
    "    s.setopt(s.WRITEDATA, buf)\n",
    "    s.perform()\n",
    "    rcode = s.getinfo(s.RESPONSE_CODE)\n",
    "    success = rcode in range(200, 207)\n",
    "    print('%s %s: %d (%s)' % (url, pf, rcode, 'OK' if success else 'ERROR'))\n",
    "    return success"
   ]
  },
  {
   "cell_type": "code",
   "execution_count": 3,
   "id": "e4a96e5e-3c6c-4e29-a2f0-3877349d8e56",
   "metadata": {},
   "outputs": [
    {
     "name": "stdout",
     "output_type": "stream",
     "text": [
      "http://192.168.10.100/cgi/reset data=reset_system: 204 (OK)\n",
      "http://192.168.10.100/cgi/setting rpm=600: 204 (OK)\n",
      "http://192.168.10.100/cgi/setting laser=on: 204 (OK)\n"
     ]
    }
   ],
   "source": [
    "sensor = pycurl.Curl()\n",
    "buffer = BytesIO()\n",
    "rc = sensor_do(sensor, Base_URL+'reset', urlencode({'data':'reset_system'}), buffer)\n",
    "if rc:\n",
    "    rc = sensor_do(sensor, Base_URL+'setting', urlencode({'rpm':'600'}), buffer)\n",
    "if rc:\n",
    "    rc = sensor_do(sensor, Base_URL+'setting', urlencode({'laser':'on'}), buffer)\n",
    "sensor.close()"
   ]
  },
  {
   "cell_type": "code",
   "execution_count": 5,
   "id": "d642865d-ed11-40f9-b390-0d10289dc44d",
   "metadata": {
    "tags": []
   },
   "outputs": [
    {
     "ename": "ReactorNotRestartable",
     "evalue": "",
     "output_type": "error",
     "traceback": [
      "\u001b[0;31m---------------------------------------------------------------------------\u001b[0m",
      "\u001b[0;31mReactorNotRestartable\u001b[0m                     Traceback (most recent call last)",
      "Input \u001b[0;32mIn [5]\u001b[0m, in \u001b[0;36m<cell line: 21>\u001b[0;34m()\u001b[0m\n\u001b[1;32m     18\u001b[0m         \u001b[38;5;28mself\u001b[39m\u001b[38;5;241m.\u001b[39mold_time \u001b[38;5;241m=\u001b[39m time\n\u001b[1;32m     20\u001b[0m reactor\u001b[38;5;241m.\u001b[39mlistenUDP(\u001b[38;5;241m2368\u001b[39m, Echo())\n\u001b[0;32m---> 21\u001b[0m \u001b[43mreactor\u001b[49m\u001b[38;5;241;43m.\u001b[39;49m\u001b[43mrun\u001b[49m\u001b[43m(\u001b[49m\u001b[43m)\u001b[49m\n",
      "File \u001b[0;32m~/Dropbox/Studie/Elektrotechniek HHS/2021-2022/Blok 4/Project/demo/.venv/lib/python3.9/site-packages/twisted/internet/base.py:1314\u001b[0m, in \u001b[0;36m_SignalReactorMixin.run\u001b[0;34m(self, installSignalHandlers)\u001b[0m\n\u001b[1;32m   1313\u001b[0m \u001b[38;5;28;01mdef\u001b[39;00m \u001b[38;5;21mrun\u001b[39m(\u001b[38;5;28mself\u001b[39m, installSignalHandlers: \u001b[38;5;28mbool\u001b[39m \u001b[38;5;241m=\u001b[39m \u001b[38;5;28;01mTrue\u001b[39;00m) \u001b[38;5;241m-\u001b[39m\u001b[38;5;241m>\u001b[39m \u001b[38;5;28;01mNone\u001b[39;00m:\n\u001b[0;32m-> 1314\u001b[0m     \u001b[38;5;28;43mself\u001b[39;49m\u001b[38;5;241;43m.\u001b[39;49m\u001b[43mstartRunning\u001b[49m\u001b[43m(\u001b[49m\u001b[43minstallSignalHandlers\u001b[49m\u001b[38;5;241;43m=\u001b[39;49m\u001b[43minstallSignalHandlers\u001b[49m\u001b[43m)\u001b[49m\n\u001b[1;32m   1315\u001b[0m     \u001b[38;5;28mself\u001b[39m\u001b[38;5;241m.\u001b[39mmainLoop()\n",
      "File \u001b[0;32m~/Dropbox/Studie/Elektrotechniek HHS/2021-2022/Blok 4/Project/demo/.venv/lib/python3.9/site-packages/twisted/internet/base.py:1296\u001b[0m, in \u001b[0;36m_SignalReactorMixin.startRunning\u001b[0;34m(self, installSignalHandlers)\u001b[0m\n\u001b[1;32m   1287\u001b[0m \u001b[38;5;124;03m\"\"\"\u001b[39;00m\n\u001b[1;32m   1288\u001b[0m \u001b[38;5;124;03mExtend the base implementation in order to remember whether signal\u001b[39;00m\n\u001b[1;32m   1289\u001b[0m \u001b[38;5;124;03mhandlers should be installed later.\u001b[39;00m\n\u001b[0;32m   (...)\u001b[0m\n\u001b[1;32m   1293\u001b[0m \u001b[38;5;124;03m    installed during startup.\u001b[39;00m\n\u001b[1;32m   1294\u001b[0m \u001b[38;5;124;03m\"\"\"\u001b[39;00m\n\u001b[1;32m   1295\u001b[0m \u001b[38;5;28mself\u001b[39m\u001b[38;5;241m.\u001b[39m_installSignalHandlers \u001b[38;5;241m=\u001b[39m installSignalHandlers\n\u001b[0;32m-> 1296\u001b[0m \u001b[43mReactorBase\u001b[49m\u001b[38;5;241;43m.\u001b[39;49m\u001b[43mstartRunning\u001b[49m\u001b[43m(\u001b[49m\u001b[43mcast\u001b[49m\u001b[43m(\u001b[49m\u001b[43mReactorBase\u001b[49m\u001b[43m,\u001b[49m\u001b[43m \u001b[49m\u001b[38;5;28;43mself\u001b[39;49m\u001b[43m)\u001b[49m\u001b[43m)\u001b[49m\n",
      "File \u001b[0;32m~/Dropbox/Studie/Elektrotechniek HHS/2021-2022/Blok 4/Project/demo/.venv/lib/python3.9/site-packages/twisted/internet/base.py:840\u001b[0m, in \u001b[0;36mReactorBase.startRunning\u001b[0;34m(self)\u001b[0m\n\u001b[1;32m    838\u001b[0m     \u001b[38;5;28;01mraise\u001b[39;00m error\u001b[38;5;241m.\u001b[39mReactorAlreadyRunning()\n\u001b[1;32m    839\u001b[0m \u001b[38;5;28;01mif\u001b[39;00m \u001b[38;5;28mself\u001b[39m\u001b[38;5;241m.\u001b[39m_startedBefore:\n\u001b[0;32m--> 840\u001b[0m     \u001b[38;5;28;01mraise\u001b[39;00m error\u001b[38;5;241m.\u001b[39mReactorNotRestartable()\n\u001b[1;32m    841\u001b[0m \u001b[38;5;28mself\u001b[39m\u001b[38;5;241m.\u001b[39m_started \u001b[38;5;241m=\u001b[39m \u001b[38;5;28;01mTrue\u001b[39;00m\n\u001b[1;32m    842\u001b[0m \u001b[38;5;28mself\u001b[39m\u001b[38;5;241m.\u001b[39m_stopped \u001b[38;5;241m=\u001b[39m \u001b[38;5;28;01mFalse\u001b[39;00m\n",
      "\u001b[0;31mReactorNotRestartable\u001b[0m: "
     ]
    }
   ],
   "source": [
    "from twisted.internet.protocol import DatagramProtocol\n",
    "from twisted.internet import reactor\n",
    "\n",
    "class Echo(DatagramProtocol):\n",
    "    def datagramReceived(self, data, addr):\n",
    "        angle = ((data[0x91 - 42] << 8) | data[0x90  - 42])\n",
    "        time = ((data[0x04DD - 42] << 24) | (data[0x04DC - 42] << 16) | (data[0x04DB - 42] << 8) | data[0x04DA - 42])\n",
    "        try:\n",
    "            if self.old_angle > angle:\n",
    "                if 36000 - self.old_angle < angle:\n",
    "                    print(f\"{self.old_time} {self.old_angle}\")\n",
    "                else:\n",
    "                    print(f\"{time} {angle}\")\n",
    "        except AttributeError:\n",
    "            pass\n",
    "        \n",
    "        self.old_angle = angle\n",
    "        self.old_time = time\n",
    "\n",
    "reactor.listenUDP(2368, Echo())\n",
    "reactor.run()"
   ]
  },
  {
   "cell_type": "code",
   "execution_count": 6,
   "id": "3995d29b-ba23-44a4-af09-c252fd377f98",
   "metadata": {},
   "outputs": [
    {
     "name": "stdout",
     "output_type": "stream",
     "text": [
      "http://192.168.10.100/cgi/reset data=reset_system: 204 (OK)\n"
     ]
    }
   ],
   "source": [
    "sensor = pycurl.Curl()\n",
    "buffer = BytesIO()\n",
    "rc = sensor_do(sensor, Base_URL+'reset', urlencode({'data':'reset_system'}), buffer)\n",
    "sensor.close()"
   ]
  },
  {
   "cell_type": "code",
   "execution_count": null,
   "id": "8f8ea32e-d102-4d0c-a76c-8b1f287428c1",
   "metadata": {},
   "outputs": [],
   "source": []
  }
 ],
 "metadata": {
  "kernelspec": {
   "display_name": "Python 3 (ipykernel)",
   "language": "python",
   "name": "python3"
  },
  "language_info": {
   "codemirror_mode": {
    "name": "ipython",
    "version": 3
   },
   "file_extension": ".py",
   "mimetype": "text/x-python",
   "name": "python",
   "nbconvert_exporter": "python",
   "pygments_lexer": "ipython3",
   "version": "3.9.12"
  }
 },
 "nbformat": 4,
 "nbformat_minor": 5
}
