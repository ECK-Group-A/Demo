{
 "cells": [
  {
   "cell_type": "code",
   "execution_count": 2,
   "id": "39bd14a1-c644-4ef0-acf5-9e577b61aa82",
   "metadata": {},
   "outputs": [],
   "source": [
    "import sqlite3\n",
    "\n",
    "con = sqlite3.connect('example.db')\n",
    "\n",
    "cur = con.cursor()\n",
    "cur.execute('''CREATE TABLE lidar_timestamps\n",
    "               (time real, angle real)''')\n",
    "cur.execute('''CREATE TABLE camera_timestamps\n",
    "               (time real)''')\n",
    "cur.close()\n",
    "\n",
    "con.close()"
   ]
  }
 ],
 "metadata": {
  "kernelspec": {
   "display_name": "Python 3 (ipykernel)",
   "language": "python",
   "name": "python3"
  },
  "language_info": {
   "codemirror_mode": {
    "name": "ipython",
    "version": 3
   },
   "file_extension": ".py",
   "mimetype": "text/x-python",
   "name": "python",
   "nbconvert_exporter": "python",
   "pygments_lexer": "ipython3",
   "version": "3.9.12"
  }
 },
 "nbformat": 4,
 "nbformat_minor": 5
}
